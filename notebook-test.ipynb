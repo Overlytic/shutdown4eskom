{
 "cells": [
  {
   "cell_type": "code",
   "execution_count": 35,
   "id": "c16ee1ad-b647-461b-8ead-c0ad77fe13e6",
   "metadata": {
    "tags": []
   },
   "outputs": [],
   "source": [
    "import pandas as pd\n",
    "from datetime import datetime as dt"
   ]
  },
  {
   "cell_type": "code",
   "execution_count": 60,
   "id": "e13eee77-df17-417a-8701-679849a52be6",
   "metadata": {
    "tags": []
   },
   "outputs": [],
   "source": [
    "url = \"https://github.com/beyarkay/eskom-calendar/releases/download/latest/machine_friendly.csv\"\n",
    "df_raw = pd.read_csv(url, parse_dates=['start', 'finsh'])"
   ]
  },
  {
   "cell_type": "code",
   "execution_count": 47,
   "id": "5a8479cd-4d83-4097-8fbe-ae6aa879e37b",
   "metadata": {
    "tags": []
   },
   "outputs": [
    {
     "data": {
      "text/plain": [
       "\u001b[0;31mSignature:\u001b[0m \u001b[0mdt\u001b[0m\u001b[0;34m.\u001b[0m\u001b[0mnow\u001b[0m\u001b[0;34m(\u001b[0m\u001b[0mtz\u001b[0m\u001b[0;34m=\u001b[0m\u001b[0;32mNone\u001b[0m\u001b[0;34m)\u001b[0m\u001b[0;34m\u001b[0m\u001b[0;34m\u001b[0m\u001b[0m\n",
       "\u001b[0;31mDocstring:\u001b[0m\n",
       "Returns new datetime object representing current time local to tz.\n",
       "\n",
       "  tz\n",
       "    Timezone object.\n",
       "\n",
       "If no tz is specified, uses local timezone.\n",
       "\u001b[0;31mType:\u001b[0m      builtin_function_or_method\n"
      ]
     },
     "metadata": {},
     "output_type": "display_data"
    }
   ],
   "source": [
    "?dt.now"
   ]
  },
  {
   "cell_type": "code",
   "execution_count": 57,
   "id": "7feacffc-7403-4509-9984-4507874d8254",
   "metadata": {
    "tags": []
   },
   "outputs": [],
   "source": [
    "my_area = 'city-of-cape-town-area-9' # Pinelands"
   ]
  },
  {
   "cell_type": "code",
   "execution_count": 129,
   "id": "2538402b-1f30-4edc-9e0d-3d6337351870",
   "metadata": {
    "tags": []
   },
   "outputs": [
    {
     "data": {
      "text/html": [
       "<div>\n",
       "<style scoped>\n",
       "    .dataframe tbody tr th:only-of-type {\n",
       "        vertical-align: middle;\n",
       "    }\n",
       "\n",
       "    .dataframe tbody tr th {\n",
       "        vertical-align: top;\n",
       "    }\n",
       "\n",
       "    .dataframe thead th {\n",
       "        text-align: right;\n",
       "    }\n",
       "</style>\n",
       "<table border=\"1\" class=\"dataframe\">\n",
       "  <thead>\n",
       "    <tr style=\"text-align: right;\">\n",
       "      <th></th>\n",
       "      <th>area_name</th>\n",
       "      <th>start</th>\n",
       "      <th>finsh</th>\n",
       "      <th>stage</th>\n",
       "      <th>source</th>\n",
       "    </tr>\n",
       "  </thead>\n",
       "  <tbody>\n",
       "    <tr>\n",
       "      <th>3</th>\n",
       "      <td>city-of-cape-town-area-9</td>\n",
       "      <td>2023-04-16 02:00:00+02:00</td>\n",
       "      <td>2023-04-16 04:30:00+02:00</td>\n",
       "      <td>6</td>\n",
       "      <td>https://twitter.com/CityofCT/status/1647223716...</td>\n",
       "    </tr>\n",
       "    <tr>\n",
       "      <th>4</th>\n",
       "      <td>city-of-cape-town-area-9</td>\n",
       "      <td>2023-04-16 08:00:00+02:00</td>\n",
       "      <td>2023-04-16 12:30:00+02:00</td>\n",
       "      <td>6</td>\n",
       "      <td>https://twitter.com/CityofCT/status/1647223716...</td>\n",
       "    </tr>\n",
       "    <tr>\n",
       "      <th>5</th>\n",
       "      <td>city-of-cape-town-area-9</td>\n",
       "      <td>2023-04-16 18:00:00+02:00</td>\n",
       "      <td>2023-04-16 20:30:00+02:00</td>\n",
       "      <td>6</td>\n",
       "      <td>https://twitter.com/CityofCT/status/1647223716...</td>\n",
       "    </tr>\n",
       "    <tr>\n",
       "      <th>6</th>\n",
       "      <td>city-of-cape-town-area-9</td>\n",
       "      <td>2023-04-17 00:00:00+02:00</td>\n",
       "      <td>2023-04-17 02:30:00+02:00</td>\n",
       "      <td>6</td>\n",
       "      <td>https://twitter.com/CityofCT/status/1647223716...</td>\n",
       "    </tr>\n",
       "  </tbody>\n",
       "</table>\n",
       "</div>"
      ],
      "text/plain": [
       "                  area_name                     start  \\\n",
       "3  city-of-cape-town-area-9 2023-04-16 02:00:00+02:00   \n",
       "4  city-of-cape-town-area-9 2023-04-16 08:00:00+02:00   \n",
       "5  city-of-cape-town-area-9 2023-04-16 18:00:00+02:00   \n",
       "6  city-of-cape-town-area-9 2023-04-17 00:00:00+02:00   \n",
       "\n",
       "                      finsh  stage  \\\n",
       "3 2023-04-16 04:30:00+02:00      6   \n",
       "4 2023-04-16 12:30:00+02:00      6   \n",
       "5 2023-04-16 20:30:00+02:00      6   \n",
       "6 2023-04-17 02:30:00+02:00      6   \n",
       "\n",
       "                                              source  \n",
       "3  https://twitter.com/CityofCT/status/1647223716...  \n",
       "4  https://twitter.com/CityofCT/status/1647223716...  \n",
       "5  https://twitter.com/CityofCT/status/1647223716...  \n",
       "6  https://twitter.com/CityofCT/status/1647223716...  "
      ]
     },
     "execution_count": 129,
     "metadata": {},
     "output_type": "execute_result"
    }
   ],
   "source": [
    "# Filter Area \n",
    "df =  (df_raw\n",
    "       .query(f\"area_name == '{my_area}'\")\n",
    "       .reset_index(drop=True)\n",
    "       .copy()\n",
    "      )\n",
    "\n",
    "# Now\n",
    "my_tz = df.start[0].tz\n",
    "date_now = dt.now(tz=my_tz)\n",
    "\n",
    "# Filter and Sort\n",
    "df = df[df['start'] > date_now]\n",
    "df = df.sort_values('start')\n",
    "\n",
    "df"
   ]
  },
  {
   "cell_type": "code",
   "execution_count": 139,
   "id": "69fd8a29-6711-4851-8389-1a50b4156d12",
   "metadata": {
    "tags": []
   },
   "outputs": [
    {
     "data": {
      "text/plain": [
       "datetime.datetime(2023, 4, 16, 2, 0, tzinfo=pytz.FixedOffset(120))"
      ]
     },
     "execution_count": 139,
     "metadata": {},
     "output_type": "execute_result"
    }
   ],
   "source": [
    "# Get Next Loadshedding Time\n",
    "time_next = df.start.dt.to_pydatetime()[0]\n",
    "\n",
    "time_next"
   ]
  },
  {
   "cell_type": "code",
   "execution_count": 142,
   "id": "07b365da-6e27-4dcc-98fb-63a925b6355e",
   "metadata": {
    "tags": []
   },
   "outputs": [
    {
     "data": {
      "text/plain": [
       "'2023/00/04/16/23 02:00:00'"
      ]
     },
     "execution_count": 142,
     "metadata": {},
     "output_type": "execute_result"
    }
   ],
   "source": [
    "dt.strftime(time_next, \"%Y/%M/%D %H:%M:%S\")\n"
   ]
  }
 ],
 "metadata": {
  "kernelspec": {
   "display_name": "Python 3",
   "language": "python",
   "name": "python3"
  },
  "language_info": {
   "codemirror_mode": {
    "name": "ipython",
    "version": 3
   },
   "file_extension": ".py",
   "mimetype": "text/x-python",
   "name": "python",
   "nbconvert_exporter": "python",
   "pygments_lexer": "ipython3",
   "version": "3.9.5"
  }
 },
 "nbformat": 4,
 "nbformat_minor": 5
}
